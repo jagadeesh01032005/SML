{
  "nbformat": 4,
  "nbformat_minor": 0,
  "metadata": {
    "colab": {
      "provenance": [],
      "include_colab_link": true
    },
    "kernelspec": {
      "name": "python3",
      "display_name": "Python 3"
    },
    "language_info": {
      "name": "python"
    }
  },
  "cells": [
    {
      "cell_type": "markdown",
      "metadata": {
        "id": "view-in-github",
        "colab_type": "text"
      },
      "source": [
        "<a href=\"https://colab.research.google.com/github/jagadeesh01032005/SML/blob/main/SML_assignment_04.ipynb\" target=\"_parent\"><img src=\"https://colab.research.google.com/assets/colab-badge.svg\" alt=\"Open In Colab\"/></a>"
      ]
    },
    {
      "cell_type": "code",
      "execution_count": null,
      "metadata": {
        "colab": {
          "base_uri": "https://localhost:8080/"
        },
        "id": "onXFURaFFfta",
        "outputId": "a05fe92c-5afa-4988-ba7f-1543b0cb9e68"
      },
      "outputs": [
        {
          "output_type": "stream",
          "name": "stdout",
          "text": [
            "      battery_power  blue  clock_speed  dual_sim  fc  four_g  int_memory  \\\n",
            "0               842     0          2.2         0   1       0           7   \n",
            "1              1021     1          0.5         1   0       1          53   \n",
            "2               563     1          0.5         1   2       1          41   \n",
            "3               615     1          2.5         0   0       0          10   \n",
            "4              1821     1          1.2         0  13       1          44   \n",
            "...             ...   ...          ...       ...  ..     ...         ...   \n",
            "1995            794     1          0.5         1   0       1           2   \n",
            "1996           1965     1          2.6         1   0       0          39   \n",
            "1997           1911     0          0.9         1   1       1          36   \n",
            "1998           1512     0          0.9         0   4       1          46   \n",
            "1999            510     1          2.0         1   5       1          45   \n",
            "\n",
            "      m_dep  mobile_wt  n_cores  ...  px_height  px_width   ram  sc_h  sc_w  \\\n",
            "0       0.6        188        2  ...         20       756  2549     9     7   \n",
            "1       0.7        136        3  ...        905      1988  2631    17     3   \n",
            "2       0.9        145        5  ...       1263      1716  2603    11     2   \n",
            "3       0.8        131        6  ...       1216      1786  2769    16     8   \n",
            "4       0.6        141        2  ...       1208      1212  1411     8     2   \n",
            "...     ...        ...      ...  ...        ...       ...   ...   ...   ...   \n",
            "1995    0.8        106        6  ...       1222      1890   668    13     4   \n",
            "1996    0.2        187        4  ...        915      1965  2032    11    10   \n",
            "1997    0.7        108        8  ...        868      1632  3057     9     1   \n",
            "1998    0.1        145        5  ...        336       670   869    18    10   \n",
            "1999    0.9        168        6  ...        483       754  3919    19     4   \n",
            "\n",
            "      talk_time  three_g  touch_screen  wifi  price_range  \n",
            "0            19        0             0     1            1  \n",
            "1             7        1             1     0            2  \n",
            "2             9        1             1     0            2  \n",
            "3            11        1             0     0            2  \n",
            "4            15        1             1     0            1  \n",
            "...         ...      ...           ...   ...          ...  \n",
            "1995         19        1             1     0            0  \n",
            "1996         16        1             1     1            2  \n",
            "1997          5        1             1     0            3  \n",
            "1998         19        1             1     1            0  \n",
            "1999          2        1             1     1            3  \n",
            "\n",
            "[2000 rows x 21 columns]\n"
          ]
        }
      ],
      "source": [
        "import pandas as pd\n",
        "d=pd.read_csv(\"/content/train[1].csv\")\n",
        "print(d)"
      ]
    },
    {
      "cell_type": "code",
      "source": [
        "y=d['price_range']\n",
        "print(y)"
      ],
      "metadata": {
        "colab": {
          "base_uri": "https://localhost:8080/"
        },
        "id": "aoGhtwgxGMJk",
        "outputId": "edf2e997-26c7-4e8e-dd56-4eacd3abda64"
      },
      "execution_count": null,
      "outputs": [
        {
          "output_type": "stream",
          "name": "stdout",
          "text": [
            "0       1\n",
            "1       2\n",
            "2       2\n",
            "3       2\n",
            "4       1\n",
            "       ..\n",
            "1995    0\n",
            "1996    2\n",
            "1997    3\n",
            "1998    0\n",
            "1999    3\n",
            "Name: price_range, Length: 2000, dtype: int64\n"
          ]
        }
      ]
    },
    {
      "cell_type": "code",
      "source": [
        "x=d.drop('price_range',axis=1)\n",
        "print(x)"
      ],
      "metadata": {
        "colab": {
          "base_uri": "https://localhost:8080/"
        },
        "id": "ozfQSFgFJU0Z",
        "outputId": "ee027b70-af05-4580-ee8a-38cb15ad8360"
      },
      "execution_count": null,
      "outputs": [
        {
          "output_type": "stream",
          "name": "stdout",
          "text": [
            "      battery_power  blue  clock_speed  dual_sim  fc  four_g  int_memory  \\\n",
            "0               842     0          2.2         0   1       0           7   \n",
            "1              1021     1          0.5         1   0       1          53   \n",
            "2               563     1          0.5         1   2       1          41   \n",
            "3               615     1          2.5         0   0       0          10   \n",
            "4              1821     1          1.2         0  13       1          44   \n",
            "...             ...   ...          ...       ...  ..     ...         ...   \n",
            "1995            794     1          0.5         1   0       1           2   \n",
            "1996           1965     1          2.6         1   0       0          39   \n",
            "1997           1911     0          0.9         1   1       1          36   \n",
            "1998           1512     0          0.9         0   4       1          46   \n",
            "1999            510     1          2.0         1   5       1          45   \n",
            "\n",
            "      m_dep  mobile_wt  n_cores  pc  px_height  px_width   ram  sc_h  sc_w  \\\n",
            "0       0.6        188        2   2         20       756  2549     9     7   \n",
            "1       0.7        136        3   6        905      1988  2631    17     3   \n",
            "2       0.9        145        5   6       1263      1716  2603    11     2   \n",
            "3       0.8        131        6   9       1216      1786  2769    16     8   \n",
            "4       0.6        141        2  14       1208      1212  1411     8     2   \n",
            "...     ...        ...      ...  ..        ...       ...   ...   ...   ...   \n",
            "1995    0.8        106        6  14       1222      1890   668    13     4   \n",
            "1996    0.2        187        4   3        915      1965  2032    11    10   \n",
            "1997    0.7        108        8   3        868      1632  3057     9     1   \n",
            "1998    0.1        145        5   5        336       670   869    18    10   \n",
            "1999    0.9        168        6  16        483       754  3919    19     4   \n",
            "\n",
            "      talk_time  three_g  touch_screen  wifi  \n",
            "0            19        0             0     1  \n",
            "1             7        1             1     0  \n",
            "2             9        1             1     0  \n",
            "3            11        1             0     0  \n",
            "4            15        1             1     0  \n",
            "...         ...      ...           ...   ...  \n",
            "1995         19        1             1     0  \n",
            "1996         16        1             1     1  \n",
            "1997          5        1             1     0  \n",
            "1998         19        1             1     1  \n",
            "1999          2        1             1     1  \n",
            "\n",
            "[2000 rows x 20 columns]\n"
          ]
        }
      ]
    },
    {
      "cell_type": "code",
      "source": [
        "dd=(x-x.min())/(x.max()-x.min())\n",
        "print(dd)"
      ],
      "metadata": {
        "colab": {
          "base_uri": "https://localhost:8080/"
        },
        "id": "zh95ZbuOJyzl",
        "outputId": "949e7585-58df-49e8-c6a7-2a378abc1958"
      },
      "execution_count": null,
      "outputs": [
        {
          "output_type": "stream",
          "name": "stdout",
          "text": [
            "      battery_power  blue  clock_speed  dual_sim        fc  four_g  \\\n",
            "0          0.227789   0.0         0.68       0.0  0.052632     0.0   \n",
            "1          0.347361   1.0         0.00       1.0  0.000000     1.0   \n",
            "2          0.041416   1.0         0.00       1.0  0.105263     1.0   \n",
            "3          0.076152   1.0         0.80       0.0  0.000000     0.0   \n",
            "4          0.881764   1.0         0.28       0.0  0.684211     1.0   \n",
            "...             ...   ...          ...       ...       ...     ...   \n",
            "1995       0.195725   1.0         0.00       1.0  0.000000     1.0   \n",
            "1996       0.977956   1.0         0.84       1.0  0.000000     0.0   \n",
            "1997       0.941884   0.0         0.16       1.0  0.052632     1.0   \n",
            "1998       0.675351   0.0         0.16       0.0  0.210526     1.0   \n",
            "1999       0.006012   1.0         0.60       1.0  0.263158     1.0   \n",
            "\n",
            "      int_memory     m_dep  mobile_wt   n_cores    pc  px_height  px_width  \\\n",
            "0       0.080645  0.555556   0.900000  0.142857  0.10   0.010204  0.170895   \n",
            "1       0.822581  0.666667   0.466667  0.285714  0.30   0.461735  0.993324   \n",
            "2       0.629032  0.888889   0.541667  0.571429  0.30   0.644388  0.811749   \n",
            "3       0.129032  0.777778   0.425000  0.714286  0.45   0.620408  0.858478   \n",
            "4       0.677419  0.555556   0.508333  0.142857  0.70   0.616327  0.475300   \n",
            "...          ...       ...        ...       ...   ...        ...       ...   \n",
            "1995    0.000000  0.777778   0.216667  0.714286  0.70   0.623469  0.927904   \n",
            "1996    0.596774  0.111111   0.891667  0.428571  0.15   0.466837  0.977971   \n",
            "1997    0.548387  0.666667   0.233333  1.000000  0.15   0.442857  0.755674   \n",
            "1998    0.709677  0.000000   0.541667  0.571429  0.25   0.171429  0.113485   \n",
            "1999    0.693548  0.888889   0.733333  0.714286  0.80   0.246429  0.169559   \n",
            "\n",
            "           ram      sc_h      sc_w  talk_time  three_g  touch_screen  wifi  \n",
            "0     0.612774  0.285714  0.388889   0.944444      0.0           0.0   1.0  \n",
            "1     0.634687  0.857143  0.166667   0.277778      1.0           1.0   0.0  \n",
            "2     0.627205  0.428571  0.111111   0.388889      1.0           1.0   0.0  \n",
            "3     0.671566  0.785714  0.444444   0.500000      1.0           0.0   0.0  \n",
            "4     0.308658  0.214286  0.111111   0.722222      1.0           1.0   0.0  \n",
            "...        ...       ...       ...        ...      ...           ...   ...  \n",
            "1995  0.110102  0.571429  0.222222   0.944444      1.0           1.0   0.0  \n",
            "1996  0.474613  0.428571  0.555556   0.777778      1.0           1.0   1.0  \n",
            "1997  0.748530  0.285714  0.055556   0.166667      1.0           1.0   0.0  \n",
            "1998  0.163816  0.928571  0.555556   0.944444      1.0           1.0   1.0  \n",
            "1999  0.978888  1.000000  0.222222   0.000000      1.0           1.0   1.0  \n",
            "\n",
            "[2000 rows x 20 columns]\n"
          ]
        }
      ]
    },
    {
      "cell_type": "code",
      "source": [
        "# x_train,x_tet,y_train,y_test\n",
        "from sklearn.model_selection import train_test_split\n",
        "x_train,x_test,y_train,y_test=train_test_split(dd,y,test_size=0.2)"
      ],
      "metadata": {
        "id": "Ob5-MV4CNDB_"
      },
      "execution_count": null,
      "outputs": []
    },
    {
      "cell_type": "code",
      "source": [
        "random_state=100"
      ],
      "metadata": {
        "id": "kAfTySA1OA7V"
      },
      "execution_count": null,
      "outputs": []
    },
    {
      "cell_type": "code",
      "source": [
        "print(x_train)\n"
      ],
      "metadata": {
        "colab": {
          "base_uri": "https://localhost:8080/"
        },
        "id": "Q622afFLOEz5",
        "outputId": "61848941-ac5b-473e-8ec0-ab91a5c877b9"
      },
      "execution_count": null,
      "outputs": [
        {
          "output_type": "stream",
          "name": "stdout",
          "text": [
            "      battery_power  blue  clock_speed  dual_sim        fc  four_g  \\\n",
            "400        0.511022   0.0         0.56       1.0  0.000000     1.0   \n",
            "1925       0.887776   1.0         0.00       0.0  0.263158     0.0   \n",
            "1301       0.917168   1.0         0.04       0.0  0.052632     0.0   \n",
            "643        0.279893   1.0         0.00       0.0  0.105263     0.0   \n",
            "723        0.514362   0.0         0.00       1.0  0.105263     0.0   \n",
            "...             ...   ...          ...       ...       ...     ...   \n",
            "210        0.597194   0.0         0.52       1.0  0.000000     0.0   \n",
            "107        0.772211   1.0         0.76       0.0  0.157895     0.0   \n",
            "567        0.513026   1.0         0.32       0.0  0.736842     0.0   \n",
            "1005       0.513694   1.0         0.72       0.0  0.000000     0.0   \n",
            "917        0.269205   0.0         0.52       0.0  0.157895     1.0   \n",
            "\n",
            "      int_memory     m_dep  mobile_wt   n_cores    pc  px_height  px_width  \\\n",
            "400     0.080645  0.111111   0.866667  0.285714  0.60   0.176531  0.646195   \n",
            "1925    0.193548  0.777778   0.666667  0.714286  0.30   0.394388  0.569426   \n",
            "1301    0.274194  0.777778   0.933333  0.142857  0.45   0.631633  0.612817   \n",
            "643     0.709677  0.777778   0.575000  0.285714  0.15   0.539796  0.614820   \n",
            "723     0.838710  0.000000   0.658333  1.000000  0.15   0.312755  0.100134   \n",
            "...          ...       ...        ...       ...   ...        ...       ...   \n",
            "210     0.338710  0.000000   0.258333  0.285714  0.05   0.108673  0.136849   \n",
            "107     0.645161  0.000000   0.983333  0.571429  0.80   0.903061  0.865154   \n",
            "567     0.806452  0.777778   0.316667  0.142857  0.75   0.814796  0.947931   \n",
            "1005    0.903226  0.444444   0.200000  0.571429  0.05   0.771429  0.811749   \n",
            "917     0.532258  0.333333   0.733333  0.285714  0.20   0.021429  0.004673   \n",
            "\n",
            "           ram      sc_h      sc_w  talk_time  three_g  touch_screen  wifi  \n",
            "400   0.608231  0.357143  0.277778   0.111111      1.0           1.0   1.0  \n",
            "1925  0.440673  0.785714  0.166667   0.944444      1.0           1.0   1.0  \n",
            "1301  0.257082  0.714286  0.555556   0.833333      0.0           1.0   0.0  \n",
            "643   0.628541  0.071429  0.000000   0.000000      0.0           0.0   1.0  \n",
            "723   0.196152  0.642857  0.611111   0.222222      0.0           1.0   1.0  \n",
            "...        ...       ...       ...        ...      ...           ...   ...  \n",
            "210   0.618653  0.428571  0.000000   0.611111      1.0           0.0   1.0  \n",
            "107   0.625601  0.928571  0.055556   0.666667      1.0           0.0   0.0  \n",
            "567   0.109300  0.928571  0.277778   0.166667      0.0           0.0   0.0  \n",
            "1005  0.813201  0.571429  0.222222   0.777778      0.0           0.0   1.0  \n",
            "917   0.295029  0.714286  0.666667   0.500000      1.0           0.0   0.0  \n",
            "\n",
            "[1600 rows x 20 columns]\n"
          ]
        }
      ]
    },
    {
      "cell_type": "code",
      "source": [
        "print(x_test)"
      ],
      "metadata": {
        "colab": {
          "base_uri": "https://localhost:8080/"
        },
        "id": "hBczLoy7OM2i",
        "outputId": "3f7b4110-f271-492a-cc3a-a7e840a3d485"
      },
      "execution_count": null,
      "outputs": [
        {
          "output_type": "stream",
          "name": "stdout",
          "text": [
            "      battery_power  blue  clock_speed  dual_sim        fc  four_g  \\\n",
            "1631       0.074148   1.0         0.00       1.0  0.052632     1.0   \n",
            "1637       0.797595   1.0         0.00       1.0  0.105263     1.0   \n",
            "425        0.918504   0.0         0.92       1.0  0.157895     1.0   \n",
            "130        0.609886   0.0         0.60       1.0  0.105263     0.0   \n",
            "183        0.305945   1.0         0.84       1.0  0.789474     0.0   \n",
            "...             ...   ...          ...       ...       ...     ...   \n",
            "950        0.588510   1.0         0.00       0.0  0.368421     1.0   \n",
            "100        0.923180   1.0         0.00       0.0  0.157895     1.0   \n",
            "1464       0.183701   1.0         0.48       0.0  0.000000     1.0   \n",
            "1294       0.058784   1.0         0.00       0.0  0.052632     1.0   \n",
            "318        0.004676   0.0         0.12       0.0  0.368421     1.0   \n",
            "\n",
            "      int_memory     m_dep  mobile_wt   n_cores    pc  px_height  px_width  \\\n",
            "1631    0.290323  0.777778   0.825000  1.000000  0.30   0.584184  0.658879   \n",
            "1637    0.725806  0.444444   0.908333  0.571429  0.65   0.157143  0.472630   \n",
            "425     0.870968  0.333333   0.850000  0.285714  0.20   0.119898  0.056742   \n",
            "130     0.838710  0.777778   0.158333  0.857143  0.15   0.133673  0.219626   \n",
            "183     0.290323  1.000000   0.033333  0.428571  0.95   0.286224  0.755007   \n",
            "...          ...       ...        ...       ...   ...        ...       ...   \n",
            "950     0.177419  0.222222   0.991667  0.142857  0.90   0.312245  0.146195   \n",
            "100     0.129032  0.222222   0.550000  0.714286  0.65   0.426531  0.827103   \n",
            "1464    0.290323  1.000000   0.550000  0.428571  0.45   0.505612  0.869826   \n",
            "1294    0.919355  0.666667   0.550000  1.000000  0.20   0.387245  0.906542   \n",
            "318     0.645161  0.222222   0.116667  0.000000  0.40   0.019898  0.038051   \n",
            "\n",
            "           ram      sc_h      sc_w  talk_time  three_g  touch_screen  wifi  \n",
            "1631  0.808658  0.785714  0.111111   0.888889      1.0           1.0   1.0  \n",
            "1637  0.366916  0.214286  0.333333   0.500000      1.0           1.0   0.0  \n",
            "425   0.738910  0.500000  0.111111   0.888889      1.0           0.0   0.0  \n",
            "130   0.946820  0.857143  0.388889   0.277778      1.0           0.0   1.0  \n",
            "183   0.991181  0.785714  0.055556   0.222222      1.0           0.0   0.0  \n",
            "...        ...       ...       ...        ...      ...           ...   ...  \n",
            "950   0.485569  0.785714  0.388889   0.388889      1.0           0.0   1.0  \n",
            "100   0.626403  0.785714  0.444444   1.000000      1.0           0.0   0.0  \n",
            "1464  0.114645  0.714286  0.611111   0.277778      1.0           1.0   1.0  \n",
            "1294  0.028327  0.785714  0.555556   0.222222      1.0           1.0   1.0  \n",
            "318   0.108765  0.571429  0.666667   0.277778      1.0           0.0   0.0  \n",
            "\n",
            "[400 rows x 20 columns]\n"
          ]
        }
      ]
    },
    {
      "cell_type": "code",
      "source": [
        "print(y_train)"
      ],
      "metadata": {
        "colab": {
          "base_uri": "https://localhost:8080/"
        },
        "id": "uVZ7LZvgOPOx",
        "outputId": "1db471ce-252b-4b8b-dee9-b5d446eacc12"
      },
      "execution_count": null,
      "outputs": [
        {
          "output_type": "stream",
          "name": "stdout",
          "text": [
            "400     2\n",
            "1925    2\n",
            "1301    1\n",
            "643     2\n",
            "723     0\n",
            "       ..\n",
            "210     2\n",
            "107     3\n",
            "567     1\n",
            "1005    3\n",
            "917     0\n",
            "Name: price_range, Length: 1600, dtype: int64\n"
          ]
        }
      ]
    },
    {
      "cell_type": "code",
      "source": [
        "print(y_test)"
      ],
      "metadata": {
        "colab": {
          "base_uri": "https://localhost:8080/"
        },
        "id": "GKbJjs7BOSfI",
        "outputId": "bca17286-773f-4b70-8138-a4c40acd830e"
      },
      "execution_count": null,
      "outputs": [
        {
          "output_type": "stream",
          "name": "stdout",
          "text": [
            "1631    3\n",
            "1637    1\n",
            "425     2\n",
            "130     3\n",
            "183     3\n",
            "       ..\n",
            "950     1\n",
            "100     3\n",
            "1464    0\n",
            "1294    0\n",
            "318     0\n",
            "Name: price_range, Length: 400, dtype: int64\n"
          ]
        }
      ]
    },
    {
      "cell_type": "code",
      "source": [
        "print(x.isnull())"
      ],
      "metadata": {
        "colab": {
          "base_uri": "https://localhost:8080/"
        },
        "id": "pF9mHC_GOUpP",
        "outputId": "fae1ac5b-2004-4829-b4c3-2bb69e7b2258"
      },
      "execution_count": null,
      "outputs": [
        {
          "output_type": "stream",
          "name": "stdout",
          "text": [
            "      battery_power   blue  clock_speed  dual_sim     fc  four_g  int_memory  \\\n",
            "0             False  False        False     False  False   False       False   \n",
            "1             False  False        False     False  False   False       False   \n",
            "2             False  False        False     False  False   False       False   \n",
            "3             False  False        False     False  False   False       False   \n",
            "4             False  False        False     False  False   False       False   \n",
            "...             ...    ...          ...       ...    ...     ...         ...   \n",
            "1995          False  False        False     False  False   False       False   \n",
            "1996          False  False        False     False  False   False       False   \n",
            "1997          False  False        False     False  False   False       False   \n",
            "1998          False  False        False     False  False   False       False   \n",
            "1999          False  False        False     False  False   False       False   \n",
            "\n",
            "      m_dep  mobile_wt  n_cores     pc  px_height  px_width    ram   sc_h  \\\n",
            "0     False      False    False  False      False     False  False  False   \n",
            "1     False      False    False  False      False     False  False  False   \n",
            "2     False      False    False  False      False     False  False  False   \n",
            "3     False      False    False  False      False     False  False  False   \n",
            "4     False      False    False  False      False     False  False  False   \n",
            "...     ...        ...      ...    ...        ...       ...    ...    ...   \n",
            "1995  False      False    False  False      False     False  False  False   \n",
            "1996  False      False    False  False      False     False  False  False   \n",
            "1997  False      False    False  False      False     False  False  False   \n",
            "1998  False      False    False  False      False     False  False  False   \n",
            "1999  False      False    False  False      False     False  False  False   \n",
            "\n",
            "       sc_w  talk_time  three_g  touch_screen   wifi  \n",
            "0     False      False    False         False  False  \n",
            "1     False      False    False         False  False  \n",
            "2     False      False    False         False  False  \n",
            "3     False      False    False         False  False  \n",
            "4     False      False    False         False  False  \n",
            "...     ...        ...      ...           ...    ...  \n",
            "1995  False      False    False         False  False  \n",
            "1996  False      False    False         False  False  \n",
            "1997  False      False    False         False  False  \n",
            "1998  False      False    False         False  False  \n",
            "1999  False      False    False         False  False  \n",
            "\n",
            "[2000 rows x 20 columns]\n"
          ]
        }
      ]
    },
    {
      "cell_type": "code",
      "source": [
        " # x=x.fillna() if there is null values\n",
        " print(d.dtypes)\n"
      ],
      "metadata": {
        "colab": {
          "base_uri": "https://localhost:8080/"
        },
        "id": "jEryYf2QPQ3Y",
        "outputId": "147fa106-b53f-458f-c42a-067f7688f625"
      },
      "execution_count": null,
      "outputs": [
        {
          "output_type": "stream",
          "name": "stdout",
          "text": [
            "battery_power      int64\n",
            "blue               int64\n",
            "clock_speed      float64\n",
            "dual_sim           int64\n",
            "fc                 int64\n",
            "four_g             int64\n",
            "int_memory         int64\n",
            "m_dep            float64\n",
            "mobile_wt          int64\n",
            "n_cores            int64\n",
            "pc                 int64\n",
            "px_height          int64\n",
            "px_width           int64\n",
            "ram                int64\n",
            "sc_h               int64\n",
            "sc_w               int64\n",
            "talk_time          int64\n",
            "three_g            int64\n",
            "touch_screen       int64\n",
            "wifi               int64\n",
            "price_range        int64\n",
            "dtype: object\n"
          ]
        }
      ]
    },
    {
      "cell_type": "code",
      "source": [
        "u=pd.read_csv(\"/content/sample_data/california_housing_train.csv\")\n",
        "print(u)"
      ],
      "metadata": {
        "colab": {
          "base_uri": "https://localhost:8080/"
        },
        "id": "-WwdxYgaP2wC",
        "outputId": "fe8936a1-da03-4b02-d9d7-7ca3ae577b47"
      },
      "execution_count": null,
      "outputs": [
        {
          "output_type": "stream",
          "name": "stdout",
          "text": [
            "       longitude  latitude  housing_median_age  total_rooms  total_bedrooms  \\\n",
            "0        -114.31     34.19                15.0       5612.0          1283.0   \n",
            "1        -114.47     34.40                19.0       7650.0          1901.0   \n",
            "2        -114.56     33.69                17.0        720.0           174.0   \n",
            "3        -114.57     33.64                14.0       1501.0           337.0   \n",
            "4        -114.57     33.57                20.0       1454.0           326.0   \n",
            "...          ...       ...                 ...          ...             ...   \n",
            "16995    -124.26     40.58                52.0       2217.0           394.0   \n",
            "16996    -124.27     40.69                36.0       2349.0           528.0   \n",
            "16997    -124.30     41.84                17.0       2677.0           531.0   \n",
            "16998    -124.30     41.80                19.0       2672.0           552.0   \n",
            "16999    -124.35     40.54                52.0       1820.0           300.0   \n",
            "\n",
            "       population  households  median_income  median_house_value  \n",
            "0          1015.0       472.0         1.4936             66900.0  \n",
            "1          1129.0       463.0         1.8200             80100.0  \n",
            "2           333.0       117.0         1.6509             85700.0  \n",
            "3           515.0       226.0         3.1917             73400.0  \n",
            "4           624.0       262.0         1.9250             65500.0  \n",
            "...           ...         ...            ...                 ...  \n",
            "16995       907.0       369.0         2.3571            111400.0  \n",
            "16996      1194.0       465.0         2.5179             79000.0  \n",
            "16997      1244.0       456.0         3.0313            103600.0  \n",
            "16998      1298.0       478.0         1.9797             85800.0  \n",
            "16999       806.0       270.0         3.0147             94600.0  \n",
            "\n",
            "[17000 rows x 9 columns]\n"
          ]
        }
      ]
    },
    {
      "cell_type": "code",
      "source": [
        "b=u['median_house_value']\n",
        "print(b)"
      ],
      "metadata": {
        "colab": {
          "base_uri": "https://localhost:8080/"
        },
        "id": "HZNnzRWeRddr",
        "outputId": "e1496612-85df-4958-d875-11fbd2cd367e"
      },
      "execution_count": null,
      "outputs": [
        {
          "output_type": "stream",
          "name": "stdout",
          "text": [
            "0         66900.0\n",
            "1         80100.0\n",
            "2         85700.0\n",
            "3         73400.0\n",
            "4         65500.0\n",
            "           ...   \n",
            "16995    111400.0\n",
            "16996     79000.0\n",
            "16997    103600.0\n",
            "16998     85800.0\n",
            "16999     94600.0\n",
            "Name: median_house_value, Length: 17000, dtype: float64\n"
          ]
        }
      ]
    },
    {
      "cell_type": "code",
      "source": [
        "a=u.drop('median_house_value',axis=1)\n",
        "print(a)"
      ],
      "metadata": {
        "colab": {
          "base_uri": "https://localhost:8080/"
        },
        "id": "zVsi2uhARxBU",
        "outputId": "62d3d12c-b668-467c-93db-3fe39dbfe0ee"
      },
      "execution_count": null,
      "outputs": [
        {
          "output_type": "stream",
          "name": "stdout",
          "text": [
            "       longitude  latitude  housing_median_age  total_rooms  total_bedrooms  \\\n",
            "0        -114.31     34.19                15.0       5612.0          1283.0   \n",
            "1        -114.47     34.40                19.0       7650.0          1901.0   \n",
            "2        -114.56     33.69                17.0        720.0           174.0   \n",
            "3        -114.57     33.64                14.0       1501.0           337.0   \n",
            "4        -114.57     33.57                20.0       1454.0           326.0   \n",
            "...          ...       ...                 ...          ...             ...   \n",
            "16995    -124.26     40.58                52.0       2217.0           394.0   \n",
            "16996    -124.27     40.69                36.0       2349.0           528.0   \n",
            "16997    -124.30     41.84                17.0       2677.0           531.0   \n",
            "16998    -124.30     41.80                19.0       2672.0           552.0   \n",
            "16999    -124.35     40.54                52.0       1820.0           300.0   \n",
            "\n",
            "       population  households  median_income  \n",
            "0          1015.0       472.0         1.4936  \n",
            "1          1129.0       463.0         1.8200  \n",
            "2           333.0       117.0         1.6509  \n",
            "3           515.0       226.0         3.1917  \n",
            "4           624.0       262.0         1.9250  \n",
            "...           ...         ...            ...  \n",
            "16995       907.0       369.0         2.3571  \n",
            "16996      1194.0       465.0         2.5179  \n",
            "16997      1244.0       456.0         3.0313  \n",
            "16998      1298.0       478.0         1.9797  \n",
            "16999       806.0       270.0         3.0147  \n",
            "\n",
            "[17000 rows x 8 columns]\n"
          ]
        }
      ]
    },
    {
      "cell_type": "code",
      "source": [
        "ab=(a-a.min())/(a.max()-a.min())\n",
        "print(ab)"
      ],
      "metadata": {
        "colab": {
          "base_uri": "https://localhost:8080/"
        },
        "id": "72nyzIuzSV-a",
        "outputId": "a8df87fe-abd4-4f48-d1e3-0d58ccfe8411"
      },
      "execution_count": null,
      "outputs": [
        {
          "output_type": "stream",
          "name": "stdout",
          "text": [
            "       longitude  latitude  housing_median_age  total_rooms  total_bedrooms  \\\n",
            "0       1.000000  0.175345            0.274510     0.147885        0.198945   \n",
            "1       0.984064  0.197662            0.352941     0.201608        0.294848   \n",
            "2       0.975100  0.122210            0.313725     0.018927        0.026847   \n",
            "3       0.974104  0.116897            0.254902     0.039515        0.052142   \n",
            "4       0.974104  0.109458            0.372549     0.038276        0.050435   \n",
            "...          ...       ...                 ...          ...             ...   \n",
            "16995   0.008964  0.854410            1.000000     0.058389        0.060987   \n",
            "16996   0.007968  0.866100            0.686275     0.061869        0.081782   \n",
            "16997   0.004980  0.988310            0.313725     0.070515        0.082247   \n",
            "16998   0.004980  0.984060            0.352941     0.070384        0.085506   \n",
            "16999   0.000000  0.850159            1.000000     0.047924        0.046400   \n",
            "\n",
            "       population  households  median_income  \n",
            "0        0.028364    0.077454       0.068530  \n",
            "1        0.031559    0.075974       0.091040  \n",
            "2        0.009249    0.019076       0.079378  \n",
            "3        0.014350    0.037000       0.185639  \n",
            "4        0.017405    0.042921       0.098281  \n",
            "...           ...         ...            ...  \n",
            "16995    0.025337    0.060516       0.128081  \n",
            "16996    0.033381    0.076303       0.139170  \n",
            "16997    0.034782    0.074823       0.174577  \n",
            "16998    0.036296    0.078441       0.102054  \n",
            "16999    0.022506    0.044236       0.173432  \n",
            "\n",
            "[17000 rows x 8 columns]\n"
          ]
        }
      ]
    },
    {
      "cell_type": "code",
      "source": [
        "from sklearn.model_selection import train_test_split\n",
        "a_train,a_test,b_train,b_test=train_test_split(ab,b,test_size=0.2)"
      ],
      "metadata": {
        "id": "RUzKZo0XSod_"
      },
      "execution_count": null,
      "outputs": []
    },
    {
      "cell_type": "code",
      "source": [
        "random_state=100"
      ],
      "metadata": {
        "id": "eOO3IRwCTNzp"
      },
      "execution_count": null,
      "outputs": []
    },
    {
      "cell_type": "code",
      "source": [
        "print(a_train)"
      ],
      "metadata": {
        "colab": {
          "base_uri": "https://localhost:8080/"
        },
        "id": "j72u9o3QTUMx",
        "outputId": "723e50a9-586d-4ed9-9c60-075040ec890e"
      },
      "execution_count": null,
      "outputs": [
        {
          "output_type": "stream",
          "name": "stdout",
          "text": [
            "       longitude  latitude  housing_median_age  total_rooms  total_bedrooms  \\\n",
            "9965    0.457171  0.450584            0.568627     0.161197        0.206238   \n",
            "2463    0.671315  0.168969            0.392157     0.221800        0.214929   \n",
            "14007   0.230080  0.506908            0.450980     0.089258        0.098076   \n",
            "12296   0.284861  0.634431            0.333333     0.018400        0.026071   \n",
            "14640   0.217131  0.550478            0.078431     0.044550        0.061608   \n",
            "...          ...       ...                 ...          ...             ...   \n",
            "5516    0.615538  0.167906            0.705882     0.059154        0.074488   \n",
            "14165   0.227092  0.535600            0.294118     0.042283        0.037089   \n",
            "11160   0.331673  0.483528            0.313725     0.029419        0.041744   \n",
            "10341   0.423307  0.437832            0.352941     0.053196        0.064401   \n",
            "15849   0.192231  0.556854            1.000000     0.026018        0.065798   \n",
            "\n",
            "       population  households  median_income  \n",
            "9965     0.077497    0.201118       0.112992  \n",
            "2463     0.120659    0.220358       0.273182  \n",
            "14007    0.045517    0.096037       0.320968  \n",
            "12296    0.007203    0.020885       0.167032  \n",
            "14640    0.022730    0.053774       0.218142  \n",
            "...           ...         ...            ...  \n",
            "5516     0.027803    0.075317       0.261686  \n",
            "14165    0.031223    0.043907       0.383871  \n",
            "11160    0.015611    0.039961       0.104943  \n",
            "10341    0.037501    0.059036       0.082764  \n",
            "15849    0.017685    0.055912       0.133895  \n",
            "\n",
            "[13600 rows x 8 columns]\n"
          ]
        }
      ]
    },
    {
      "cell_type": "code",
      "source": [
        "print(a_test)"
      ],
      "metadata": {
        "colab": {
          "base_uri": "https://localhost:8080/"
        },
        "id": "XOAWJR09TWCt",
        "outputId": "a56e2776-b34e-4ef3-92fc-919a0307a120"
      },
      "execution_count": null,
      "outputs": [
        {
          "output_type": "stream",
          "name": "stdout",
          "text": [
            "       longitude  latitude  housing_median_age  total_rooms  total_bedrooms  \\\n",
            "16303   0.184263  0.577046            0.470588     0.171978        0.295003   \n",
            "7981    0.591633  0.155154            0.705882     0.037538        0.040037   \n",
            "518     0.732072  0.249734            0.549020     0.069461        0.079299   \n",
            "5630    0.614542  0.158342            0.764706     0.069303        0.108163   \n",
            "7854    0.592629  0.181722            0.235294     0.049295        0.076971   \n",
            "...          ...       ...                 ...          ...             ...   \n",
            "3706    0.639442  0.163656            0.666667     0.018110        0.019708   \n",
            "4183    0.633466  0.136026            0.352941     0.052432        0.081782   \n",
            "11974   0.295817  0.632306            0.196078     0.224990        0.254811   \n",
            "5789    0.613546  0.137088            0.803922     0.046685        0.055711   \n",
            "14575   0.218127  0.553666            0.843137     0.016212        0.020174   \n",
            "\n",
            "       population  households  median_income  \n",
            "16303    0.165756    0.297813       0.153612  \n",
            "7981     0.019227    0.042756       0.346788  \n",
            "518      0.033213    0.073179       0.171729  \n",
            "5630     0.081757    0.111166       0.108723  \n",
            "7854     0.053925    0.070877       0.117378  \n",
            "...           ...         ...            ...  \n",
            "3706     0.010538    0.020885       0.238507  \n",
            "4183     0.033605    0.075481       0.183025  \n",
            "11974    0.118305    0.270844       0.169984  \n",
            "5789     0.022758    0.049005       0.303451  \n",
            "14575    0.010510    0.022036       0.141853  \n",
            "\n",
            "[3400 rows x 8 columns]\n"
          ]
        }
      ]
    },
    {
      "cell_type": "code",
      "source": [
        "print(b_train)"
      ],
      "metadata": {
        "colab": {
          "base_uri": "https://localhost:8080/"
        },
        "id": "O2Ou1kJPTYT0",
        "outputId": "1f9a5253-5251-4e27-e787-58a189668d95"
      },
      "execution_count": null,
      "outputs": [
        {
          "output_type": "stream",
          "name": "stdout",
          "text": [
            "9965      78800.0\n",
            "2463     164600.0\n",
            "14007    355100.0\n",
            "12296    152900.0\n",
            "14640    158300.0\n",
            "           ...   \n",
            "5516     354700.0\n",
            "14165    247000.0\n",
            "11160    112500.0\n",
            "10341     69000.0\n",
            "15849    275000.0\n",
            "Name: median_house_value, Length: 13600, dtype: float64\n"
          ]
        }
      ]
    },
    {
      "cell_type": "code",
      "source": [
        "print(a_test)"
      ],
      "metadata": {
        "colab": {
          "base_uri": "https://localhost:8080/"
        },
        "id": "9HAB2CyeTbJc",
        "outputId": "9e94a78f-03be-4e8b-9a23-4a2268fa91af"
      },
      "execution_count": null,
      "outputs": [
        {
          "output_type": "stream",
          "name": "stdout",
          "text": [
            "       longitude  latitude  housing_median_age  total_rooms  total_bedrooms  \\\n",
            "16303   0.184263  0.577046            0.470588     0.171978        0.295003   \n",
            "7981    0.591633  0.155154            0.705882     0.037538        0.040037   \n",
            "518     0.732072  0.249734            0.549020     0.069461        0.079299   \n",
            "5630    0.614542  0.158342            0.764706     0.069303        0.108163   \n",
            "7854    0.592629  0.181722            0.235294     0.049295        0.076971   \n",
            "...          ...       ...                 ...          ...             ...   \n",
            "3706    0.639442  0.163656            0.666667     0.018110        0.019708   \n",
            "4183    0.633466  0.136026            0.352941     0.052432        0.081782   \n",
            "11974   0.295817  0.632306            0.196078     0.224990        0.254811   \n",
            "5789    0.613546  0.137088            0.803922     0.046685        0.055711   \n",
            "14575   0.218127  0.553666            0.843137     0.016212        0.020174   \n",
            "\n",
            "       population  households  median_income  \n",
            "16303    0.165756    0.297813       0.153612  \n",
            "7981     0.019227    0.042756       0.346788  \n",
            "518      0.033213    0.073179       0.171729  \n",
            "5630     0.081757    0.111166       0.108723  \n",
            "7854     0.053925    0.070877       0.117378  \n",
            "...           ...         ...            ...  \n",
            "3706     0.010538    0.020885       0.238507  \n",
            "4183     0.033605    0.075481       0.183025  \n",
            "11974    0.118305    0.270844       0.169984  \n",
            "5789     0.022758    0.049005       0.303451  \n",
            "14575    0.010510    0.022036       0.141853  \n",
            "\n",
            "[3400 rows x 8 columns]\n"
          ]
        }
      ]
    },
    {
      "cell_type": "code",
      "source": [
        "print(a.isnull())"
      ],
      "metadata": {
        "colab": {
          "base_uri": "https://localhost:8080/"
        },
        "id": "A_U5Rpq10Rf0",
        "outputId": "65852e7a-16f4-45ac-bf62-5f623cb79d52"
      },
      "execution_count": null,
      "outputs": [
        {
          "output_type": "stream",
          "name": "stdout",
          "text": [
            "       longitude  latitude  housing_median_age  total_rooms  total_bedrooms  \\\n",
            "0          False     False               False        False           False   \n",
            "1          False     False               False        False           False   \n",
            "2          False     False               False        False           False   \n",
            "3          False     False               False        False           False   \n",
            "4          False     False               False        False           False   \n",
            "...          ...       ...                 ...          ...             ...   \n",
            "16995      False     False               False        False           False   \n",
            "16996      False     False               False        False           False   \n",
            "16997      False     False               False        False           False   \n",
            "16998      False     False               False        False           False   \n",
            "16999      False     False               False        False           False   \n",
            "\n",
            "       population  households  median_income  \n",
            "0           False       False          False  \n",
            "1           False       False          False  \n",
            "2           False       False          False  \n",
            "3           False       False          False  \n",
            "4           False       False          False  \n",
            "...           ...         ...            ...  \n",
            "16995       False       False          False  \n",
            "16996       False       False          False  \n",
            "16997       False       False          False  \n",
            "16998       False       False          False  \n",
            "16999       False       False          False  \n",
            "\n",
            "[17000 rows x 8 columns]\n"
          ]
        }
      ]
    },
    {
      "cell_type": "code",
      "source": [
        "a=a.fillna(0)\n",
        "print(a)"
      ],
      "metadata": {
        "colab": {
          "base_uri": "https://localhost:8080/"
        },
        "id": "vuzy-LTe1riU",
        "outputId": "b3a20d6d-a6cb-4e66-ef41-158cb7060719"
      },
      "execution_count": null,
      "outputs": [
        {
          "output_type": "stream",
          "name": "stdout",
          "text": [
            "       longitude  latitude  housing_median_age  total_rooms  total_bedrooms  \\\n",
            "0        -114.31     34.19                15.0       5612.0          1283.0   \n",
            "1        -114.47     34.40                19.0       7650.0          1901.0   \n",
            "2        -114.56     33.69                17.0        720.0           174.0   \n",
            "3        -114.57     33.64                14.0       1501.0           337.0   \n",
            "4        -114.57     33.57                20.0       1454.0           326.0   \n",
            "...          ...       ...                 ...          ...             ...   \n",
            "16995    -124.26     40.58                52.0       2217.0           394.0   \n",
            "16996    -124.27     40.69                36.0       2349.0           528.0   \n",
            "16997    -124.30     41.84                17.0       2677.0           531.0   \n",
            "16998    -124.30     41.80                19.0       2672.0           552.0   \n",
            "16999    -124.35     40.54                52.0       1820.0           300.0   \n",
            "\n",
            "       population  households  median_income  \n",
            "0          1015.0       472.0         1.4936  \n",
            "1          1129.0       463.0         1.8200  \n",
            "2           333.0       117.0         1.6509  \n",
            "3           515.0       226.0         3.1917  \n",
            "4           624.0       262.0         1.9250  \n",
            "...           ...         ...            ...  \n",
            "16995       907.0       369.0         2.3571  \n",
            "16996      1194.0       465.0         2.5179  \n",
            "16997      1244.0       456.0         3.0313  \n",
            "16998      1298.0       478.0         1.9797  \n",
            "16999       806.0       270.0         3.0147  \n",
            "\n",
            "[17000 rows x 8 columns]\n"
          ]
        }
      ]
    },
    {
      "cell_type": "code",
      "source": [
        "print(u.dtypes)"
      ],
      "metadata": {
        "colab": {
          "base_uri": "https://localhost:8080/"
        },
        "id": "9uTTc0ykTe_3",
        "outputId": "b0e1ba56-d027-40ab-bc6b-d1065226d760"
      },
      "execution_count": null,
      "outputs": [
        {
          "output_type": "stream",
          "name": "stdout",
          "text": [
            "longitude             float64\n",
            "latitude              float64\n",
            "housing_median_age    float64\n",
            "total_rooms           float64\n",
            "total_bedrooms        float64\n",
            "population            float64\n",
            "households            float64\n",
            "median_income         float64\n",
            "median_house_value    float64\n",
            "dtype: object\n"
          ]
        }
      ]
    }
  ]
}